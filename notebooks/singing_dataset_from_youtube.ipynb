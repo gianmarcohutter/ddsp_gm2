{
  "nbformat": 4,
  "nbformat_minor": 0,
  "metadata": {
    "colab": {
      "name": "singing_dataset_from_youtube.ipynb",
      "provenance": [],
      "collapsed_sections": []
    },
    "kernelspec": {
      "name": "python3",
      "display_name": "Python 3"
    }
  },
  "cells": [
    {
      "cell_type": "markdown",
      "metadata": {
        "id": "EiZiGgUkvEG9"
      },
      "source": [
        "This notebook lets you download a list of songs from youtube, performs audio source separation to extract the voices from the songs and if desired, removes all the silences and adds the snippets together to one long audio file. The output is automatically saved in your google drive in a folder with the name defined at \"folder_name\""
      ]
    },
    {
      "cell_type": "code",
      "metadata": {
        "id": "BVrvOVRUt1C5"
      },
      "source": [
        "#mount your google drive to save the output to\n",
        "from google.colab import drive\n",
        "drive.mount('/content/gdrive')"
      ],
      "execution_count": null,
      "outputs": []
    },
    {
      "cell_type": "code",
      "metadata": {
        "id": "vRg0qCMpW1tl"
      },
      "source": [
        "folder_name=\"jack_johnson_yt/\" #where to save to in drive\n",
        "\n",
        "#all eddie vedder songs from into the wild except for \"tuolumne\" because thats only instrumental\n",
        "'''\n",
        "youtube_list=[\n",
        "\"https://www.youtube.com/watch?v=KDlsH8MbDbs\",\n",
        "\"https://www.youtube.com/watch?v=oO4O8Xpvp_Q\",\n",
        "\"https://www.youtube.com/watch?v=zP-6sau1Jmo\",\n",
        "\"https://www.youtube.com/watch?v=GXQSRuLeSEM\",\n",
        "\"https://www.youtube.com/watch?v=S5LFCE-_hNY\",\n",
        "\"https://www.youtube.com/watch?v=_EZUfnMv3Lg\",\n",
        "\"https://www.youtube.com/watch?v=ABsslEoL0-c\",\n",
        "\"https://www.youtube.com/watch?v=CB4xAL1rySw\",\n",
        "\"https://www.youtube.com/watch?v=hqaeeQkE2dE\",\n",
        "\"https://www.youtube.com/watch?v=K6g4841NZ6I\",\n",
        "]\n",
        "'''\n",
        "\n",
        "\n",
        "#jack johnson album \"Between Dreams\"\n",
        "\n",
        "youtube_list=[\n",
        "\"https://youtu.be/P0rKYkpcnB0?list=PLH2nYalExXL0GFXWfk0iCCcjrpHLI4Wnh\",\n",
        "\"https://youtu.be/AtkBgbQxBs0?list=PLH2nYalExXL0GFXWfk0iCCcjrpHLI4Wnh\",\n",
        "\"https://youtu.be/1gQvaLsQi3Q?list=PLH2nYalExXL0GFXWfk0iCCcjrpHLI4Wnh\",\n",
        "\"https://youtu.be/cG8kBsjfVp8?list=PLH2nYalExXL0GFXWfk0iCCcjrpHLI4Wnh\",\n",
        "\"https://youtu.be/b8vl_-yXNDM?list=PLH2nYalExXL0GFXWfk0iCCcjrpHLI4Wnh\",\n",
        "\"https://youtu.be/nY9qR3EpRDE?list=PLH2nYalExXL0GFXWfk0iCCcjrpHLI4Wnh\",\n",
        "\"https://youtu.be/5XTon19ueJY?list=PLH2nYalExXL0GFXWfk0iCCcjrpHLI4Wnh\",\n",
        "\"https://youtu.be/YMc0sRjmKqk?list=PLH2nYalExXL0GFXWfk0iCCcjrpHLI4Wnh\",\n",
        "\"https://youtu.be/k1WRjejBjmk?list=PLH2nYalExXL0GFXWfk0iCCcjrpHLI4Wnh\",\n",
        "\"https://youtu.be/9AZVXorIZNs?list=PLH2nYalExXL0GFXWfk0iCCcjrpHLI4Wnh\",\n",
        "\"https://youtu.be/zwi4nJjS9zk?list=PLH2nYalExXL0GFXWfk0iCCcjrpHLI4Wnh\",\n",
        "\"https://youtu.be/CZbORKIAyOU?list=PLH2nYalExXL0GFXWfk0iCCcjrpHLI4Wnh\",\n",
        "\"https://youtu.be/N_ugWaw-fTo?list=PLH2nYalExXL0GFXWfk0iCCcjrpHLI4Wnh\",\n",
        "\"https://youtu.be/6g4oyd-h9z8?list=PLH2nYalExXL0GFXWfk0iCCcjrpHLI4Wnh\",\n",
        "]\n"
      ],
      "execution_count": null,
      "outputs": []
    },
    {
      "cell_type": "code",
      "metadata": {
        "id": "35HdGSqhzU2_",
        "cellView": "both"
      },
      "source": [
        "#install pytube to download youtube songs\n",
        "!pip install git+https://gitlab.com/obuilds/public/pytube@ob-v1  --upgrade\n",
        "\n",
        "#install spleeter to separate audio sources\n",
        "!apt install ffmpeg\n",
        "!pip install spleeter"
      ],
      "execution_count": null,
      "outputs": []
    },
    {
      "cell_type": "code",
      "metadata": {
        "id": "_pVJ0sIX10rf"
      },
      "source": [
        "from pytube import YouTube\n",
        "from IPython.display import Audio\n",
        "import librosa\n",
        "import numpy as np\n",
        "import soundfile as sf"
      ],
      "execution_count": null,
      "outputs": []
    },
    {
      "cell_type": "code",
      "metadata": {
        "id": "2AShtO0lYWOH"
      },
      "source": [
        "%cd /content\n",
        "!rm -r downloads\n",
        "!mkdir downloads"
      ],
      "execution_count": null,
      "outputs": []
    },
    {
      "cell_type": "code",
      "metadata": {
        "id": "TeAO8Q3LZFAy"
      },
      "source": [
        "%cd /content/downloads\n",
        "mp4_files = []\n",
        "for i,track in enumerate(youtube_list):\n",
        "  yt = YouTube(track)\n",
        "  mp4_stream=yt.streams.get_by_itag('140')\n",
        "  mp4_stream.download(filename=str(i))\n",
        "  mp4_files.append(str(i)+\".mp4\")"
      ],
      "execution_count": null,
      "outputs": []
    },
    {
      "cell_type": "code",
      "metadata": {
        "id": "fGyFCqvHPBv9"
      },
      "source": [
        "%cd /content/downloads\n",
        "for filename in mp4_files:\n",
        "  print(filename)\n",
        "  !spleeter separate -i  $filename -p spleeter:2stems -o output\n",
        "  \n",
        "#for 16khz model instead of 11khz: (aparently gives artefacts)\n",
        "#!spleeter separate -i audio_example.mp3 -o audio_output -p spleeter:4stems-16kHz"
      ],
      "execution_count": null,
      "outputs": []
    },
    {
      "cell_type": "code",
      "metadata": {
        "id": "ooW4t4y8Z4fC"
      },
      "source": [
        "#folder name defined above (first cell)\n",
        "!rm -r output_vocals\n",
        "!mkdir output_vocals\n",
        "long_vocals=[]\n",
        "for filename in mp4_files:\n",
        "  folder_number=filename[:-4]\n",
        "  vocal_path=\"/content/downloads/output/\"+folder_number+\"/vocals.wav\"\n",
        "  vocal_target=\"/content/downloads/output_vocals/\"+folder_number+\".wav\"\n",
        "  !cp $vocal_path $vocal_target \n",
        "  long_vocals.append(vocal_target)"
      ],
      "execution_count": null,
      "outputs": []
    },
    {
      "cell_type": "code",
      "metadata": {
        "id": "xI0_z1XAtA2A"
      },
      "source": [
        "print(long_vocals)"
      ],
      "execution_count": null,
      "outputs": []
    },
    {
      "cell_type": "code",
      "metadata": {
        "id": "0YCjGLCwUWKM"
      },
      "source": [
        "#remove the silence from a song and save to drive\n",
        "\n",
        "HOME_DIR_LINUX=\"/content/drive/My\\ Drive/\" #because its a huge pain that \"My Drive\" has a f*ing empty space in the name\n",
        "HOME_DIR_LIBROSA=\"/content/drive/My Drive/\"\n",
        "target_linux=HOME_DIR_LINUX+folder_name\n",
        "target_librosa=HOME_DIR_LIBROSA+folder_name\n",
        "!mkdir $target_linux\n",
        "for i,v in enumerate(long_vocals):\n",
        "  audio,sr=librosa.core.load(v,16000,mono=True)\n",
        "  splits=librosa.effects.split(y=audio, frame_length=sr, top_db=20)\n",
        "  short_audio=np.array([])\n",
        "  for j,split in enumerate(splits):\n",
        "    short_audio=np.append(short_audio,audio[split[0]:split[1]])\n",
        "  sf.write(target_librosa+str(i)+\".wav\", short_audio, sr)\n",
        "  #librosa.output.write_wav(target_librosa+str(i)+\".wav\",short_audio, sr)"
      ],
      "execution_count": null,
      "outputs": []
    },
    {
      "cell_type": "code",
      "metadata": {
        "id": "Xn_iA9Xyxo09"
      },
      "source": [
        "#audio,sr=librosa.core.load(\"/content/downloads/output_vocals/8.wav\",16000,mono=True)\n",
        "Audio(short_audio,rate=sr)\n",
        "#librosa.output.write_wav(target_librosa+\"test.wav\",short_audio, sr)"
      ],
      "execution_count": null,
      "outputs": []
    },
    {
      "cell_type": "code",
      "metadata": {
        "id": "oUHC09NqFP6f"
      },
      "source": [
        "#add them all together to one file:\n",
        "import wave\n",
        "import glob\n",
        "import os\n",
        "%cd $target_linux\n",
        "\n",
        "wav_files = glob.glob( '*.wav')\n",
        "print (wav_files)\n",
        "\n",
        "outfile=wav_files[0]\n",
        "for i,file in enumerate(wav_files):\n",
        "  if(i!=0):  \n",
        "    infiles = [outfile,file]\n",
        "    outfile = \"alltogether.wav\"\n",
        "\n",
        "    data= []\n",
        "    for infile in infiles:\n",
        "        w = wave.open(infile, 'rb')\n",
        "        data.append( [w.getparams(), w.readframes(w.getnframes())] )\n",
        "        w.close()\n",
        "        \n",
        "    output = wave.open(outfile, 'wb')\n",
        "    output.setparams(data[0][0])\n",
        "    output.writeframes(data[0][1])\n",
        "    output.writeframes(data[1][1])\n",
        "    output.close()\n",
        "\n",
        "%cd /content/"
      ],
      "execution_count": null,
      "outputs": []
    }
  ]
}